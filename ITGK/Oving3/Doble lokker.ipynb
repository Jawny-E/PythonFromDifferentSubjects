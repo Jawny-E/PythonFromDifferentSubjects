{
 "cells": [
  {
   "cell_type": "markdown",
   "metadata": {
    "deletable": false,
    "editable": false,
    "run_control": {
     "frozen": true
    }
   },
   "source": [
    "<nav class=\"navbar navbar-default\">\n",
    "  <div class=\"container-fluid\">\n",
    "    <div class=\"navbar-header\">\n",
    "      <a class=\"navbar-brand\" href=\"_Oving3.ipynb\">Øving 3</a>\n",
    "    </div>\n",
    "    <ul class=\"nav navbar-nav\">\n",
    "      <li ><a href=\"Intro%20til%20lokker.ipynb\">Intro til løkker</a></li>\n",
    "    <li ><a href=\"Mer%20om%20lokker.ipynb\">Mer om løkker</a></li>\n",
    "    <li><a href=\"Nostede%20lokker.ipynb\">Intro til nøstede løkker</a></li>\n",
    "    <li ><a href=\"Kodeforstaelse.ipynb\">Kodeforståelse</a></li>\n",
    "    <li ><a href=\"Gjett%20tallet.ipynb\">Gjett tallet</a></li>\n",
    "       <li ><a href=\"Tekstbasert%20spill%202.ipynb\">Tekstbasert spill 2</a></li>\n",
    "    <li ><a href=\"Geometrisk%20rekke.ipynb\">Geometrisk rekke</a></li>\n",
    "    <li ><a href=\"Fibonacci.ipynb\">Fibonacci</a></li>\n",
    "    <li><a href=\"Alternerende%20sum.ipynb\">Alternerende sum</a></li>\n",
    "    <li ><a href=\"Hangman.ipynb\">Hangman</a></li>\n",
    "    <li class=\"active\"><a href=\"Doble%20lokker.ipynb\">Doble løkker</a></li>\n",
    "    </ul>\n",
    "  </div>\n",
    "</nav>\n",
    "\n",
    "# Doble løkker - til dels vanskelig\n",
    "\n",
    "**Læringsmål:**\n",
    "\n",
    "* Nøstede løkker\n",
    "\n",
    "**Starting Out with Python:**\n",
    "\n",
    "* Kap. 4.7"
   ]
  },
  {
   "cell_type": "markdown",
   "metadata": {
    "deletable": false,
    "editable": false,
    "run_control": {
     "frozen": true
    }
   },
   "source": [
    "### a)\n",
    "Skriv et program som benytter seg av en dobbel for-løkke og skriver ut følgende:\n",
    "\n",
    "```python\n",
    "1\n",
    "1 2\n",
    "1 2 3\n",
    "1 2 3 4\n",
    "1 2 3 4 5\n",
    "```\n",
    "\n",
    "***Skriv koden din her:***"
   ]
  },
  {
   "cell_type": "code",
   "execution_count": 1,
   "metadata": {
    "ExecuteTime": {
     "end_time": "2019-07-03T06:31:27.370599Z",
     "start_time": "2019-07-03T06:31:27.365228Z"
    }
   },
   "outputs": [
    {
     "name": "stdout",
     "output_type": "stream",
     "text": [
      "1 \n",
      "1 2 \n",
      "1 2 3 \n",
      "1 2 3 4 \n",
      "1 2 3 4 5 \n"
     ]
    }
   ],
   "source": [
    "for i in range(1,6):\n",
    "    string = \"\";\n",
    "    for j in range (1, i+1):\n",
    "        string = string + str(j) + \" \"\n",
    "    print(string)"
   ]
  },
  {
   "cell_type": "markdown",
   "metadata": {
    "deletable": false,
    "editable": false,
    "run_control": {
     "frozen": true
    }
   },
   "source": [
    "### b)\n",
    "Skriv et program som benytter seg av en dobbel for-løkke og skriver ut følgende:\n",
    "\n",
    "```python\n",
    "X X\n",
    "X  X\n",
    "X   X\n",
    "X    X\n",
    "X     X\n",
    "```\n",
    "\n",
    "***Skriv koden din her:***"
   ]
  },
  {
   "cell_type": "code",
   "execution_count": 2,
   "metadata": {
    "ExecuteTime": {
     "end_time": "2019-07-03T06:36:27.852028Z",
     "start_time": "2019-07-03T06:36:27.844946Z"
    }
   },
   "outputs": [],
   "source": [
    "for i in range(1,6):\n",
    "    string = \"X\" + \" \";\n",
    "    for j in range (1, i+1):\n",
    "        if (j == i):\n",
    "            string = string + \"X\"\n",
    "        else:\n",
    "            string = string + \" \"\n",
    "    print(string)"
   ]
  },
  {
   "cell_type": "markdown",
   "metadata": {
    "deletable": false,
    "editable": false,
    "run_control": {
     "frozen": true
    }
   },
   "source": [
    "### c)\n",
    "Skriv et program som lar brukeren gi som input fra tastaturet et positivt heltall. Programmet skal da skrive ut primtallsfaktoriseringen til tallet, eller evt. at det allerede er et primtall. Eksempel på et par kjøringer:\n",
    "```python\n",
    "Skriv inn et positivt heltall: 2\n",
    "2 er et primtall\n",
    ">>>\n",
    "Skriv inn et positivt heltall: 38\n",
    "38 = 2*19\n",
    ">>>\n",
    "Skriv inn et positivt heltall: 1000\n",
    "1000 = 2*2*2*5*5*5\n",
    ">>>\n",
    "Skriv inn et positivt heltall: 73727\n",
    "73727 er et primtall\n",
    ">>>\n",
    "Skriv inn et positivt heltall: 123456789\n",
    "123456789 = 3*3*3607*3803\n",
    ">>>\n",
    "```\n",
    "\n",
    "Dette er et problem som peker i retning av dobbel løkke fordi samme tall kan være faktor flere ganger, som f.eks. i `1000  = 2*2*2*5*5*5`. Den ytre løkka trengs for å prøve ut stadig nye faktorer, den indre for å prøve om igjen samme faktor, i tilfelle den inngår flere ganger i tallet.\n",
    "\n",
    "***Skriv koden din her:***"
   ]
  },
  {
   "cell_type": "code",
   "execution_count": 2,
   "metadata": {
    "ExecuteTime": {
     "end_time": "2019-07-03T06:38:34.639856Z",
     "start_time": "2019-07-03T06:38:34.633773Z"
    }
   },
   "outputs": [
    {
     "name": "stdout",
     "output_type": "stream",
     "text": [
      "2\n",
      "2\n",
      "2\n",
      "5\n",
      "5\n",
      "5\n"
     ]
    }
   ],
   "source": [
    "n = int(input(\"Skriv inn eit positivt heiltal\"))\n",
    " \n",
    "import math\n",
    " \n",
    "def primeFactors(n):\n",
    "    while n % 2 == 0:\n",
    "        print(2)\n",
    "        n = n // 2\n",
    "    for i in range(3,int(math.sqrt(n))+1,2):\n",
    "        while n % i== 0:\n",
    "            print(i)\n",
    "            n = n // i\n",
    "    if n > 2:\n",
    "        print(n)\n",
    "\n",
    "primeFactors(n)"
   ]
  },
  {
   "cell_type": "markdown",
   "metadata": {
    "deletable": false,
    "editable": false,
    "run_control": {
     "frozen": true
    }
   },
   "source": [
    "### d)\n",
    "Du skal hjelpe frøken Bernsen med å lage et enkelt program hvor elevene kan øve seg på den lille gangetabellen. Eleven skal stadig møte på nye gangestykker, og får 3 forsøk på hvert spørsmål. Benytt deg av `randint(0,9)` for å få tilfeldige tall for hvert gangestykke. Programmet skal fortsette frem til eleven gir beskjed om noe annet.\n",
    "\n",
    "Eksempel på kjøring:\n",
    "\n",
    "```python\n",
    "Hva blir 2*0? 0\n",
    "Gratulerer, det er helt riktig!\n",
    "Er det ønskelig med flere spørsmål? Skriv 1 for ja og 0 for nei: 1\n",
    ">>> \n",
    "Hva blir 8*6? 42\n",
    "Dessverre ikke riktig. Du har 2 forsøk igjen.\n",
    "Hva blir 8*6? 48\n",
    "Gratulerer, det er helt riktig!\n",
    "Er det ønskelig med flere spørsmål? Skriv 1 for ja og 0 for nei: 1\n",
    ">>>\n",
    "Hva blir 8*9? 73\n",
    "Dessverre ikke riktig. Du har 2 forsøk igjen.\n",
    "Hva blir 8*9? 74\n",
    "Dessverre ikke riktig. Du har 1 forsøk igjen.\n",
    "Hva blir 8*9? 78\n",
    "Dessverre ikke riktig. Du har 0 forsøk igjen.\n",
    "Dessverre klarte du ikke dette regnestykket, men vent så får du et nytt et:)\n",
    "Er det ønskelig med flere spørsmål? Skriv 1 for ja og 0 for nei: 1\n",
    ">>>\n",
    "Hva blir 9*1? 9\n",
    "Gratulerer, det er helt riktig!\n",
    "Er det ønskelig med flere spørsmål? Skriv 1 for ja og 0 for nei: 0\n",
    ">>>\n",
    "```\n",
    "\n",
    "***Skriv koden din her:***"
   ]
  },
  {
   "cell_type": "code",
   "execution_count": 4,
   "metadata": {
    "ExecuteTime": {
     "end_time": "2019-07-03T06:40:51.257308Z",
     "start_time": "2019-07-03T06:40:51.248787Z"
    }
   },
   "outputs": [],
   "source": [
    "from random import randint\n",
    "x = 1\n",
    "size = 5\n",
    "counter = 0\n",
    "while(x == 1):\n",
    "    size = (counter//5 + 1) * 5\n",
    "    n1 = randint(0, size)\n",
    "    n2 = randint(0, size)\n",
    "    print(\"Du har \" + str(counter) + \" rette på rad!\")\n",
    "    print(\"Vanklighetsgraden er nå \" + str(size))\n",
    "    for i in range(2, -1, -1): \n",
    "        melding = \"Hva blir \" + str(n1) + \"*\" + str(n2) + \"?\"\n",
    "        svar = int(input(melding))\n",
    "        if(svar == (n1*n2)):\n",
    "            print(\"Bra jobba dette var riktig\")\n",
    "            counter += 1\n",
    "            break\n",
    "        else:\n",
    "            print(\"Dette ble ikke riktig. Du har \" + str(i) + \" forsøk igjen\")\n",
    "            if(i == 0):\n",
    "                counter = 0\n",
    "                print(\"Du klarte desverre ikke dette spørsmålet, men du kan gå til neste :)\")\n",
    "    x = int(input(\"Vil du ha flere oppgåver, 1 for ja, 0 for nei\"))\n"
   ]
  },
  {
   "cell_type": "markdown",
   "metadata": {
    "deletable": false,
    "editable": false,
    "run_control": {
     "frozen": true
    }
   },
   "source": [
    "### e) (frivillig)\n",
    "Du skal endre programmet ditt fra d) slik at eleven først får veldig lette gangestykker ved å bruke `randint(0,5)` (fra random-biblioteket). Dersom eleven klarer å svare rett på 5 spørsmål på rad (eleven kan fremdeles bruke 3 forsøk), skal vanskelighetsgraden øke ved å bruke `randint(0,10)`. Dette intervallet skal altså øke med 5 for hver gang eleven svarer korrekt på 5 spørsmål på rad. \n",
    "\n",
    "Eksempel på kjøring:\n",
    "\n",
    "```python\n",
    "Hva blir 1*2? 2                                                    #1 riktig svar\n",
    "Gratulerer, det er helt riktig!\n",
    "Er det ønskelig med flere spørsmål? Skriv 1 for ja og 0 for nei: 1\n",
    "```\n",
    "```python\n",
    "Hva blir 1*5? 5                                                    #2 riktige svar\n",
    "Gratulerer, det er helt riktig!\n",
    "Er det ønskelig med flere spørsmål? Skriv 1 for ja og 0 for nei: 1\n",
    " ```\n",
    " ```python\n",
    "Hva blir 3*5? 15                                                   #3 riktige svar\n",
    "Gratulerer, det er helt riktig!\n",
    "Er det ønskelig med flere spørsmål? Skriv 1 for ja og 0 for nei: 1\n",
    " ```\n",
    " ```python\n",
    "Hva blir 2*1? 2                                                    #4 riktige svar\n",
    "Gratulerer, det er helt riktig!\n",
    "Er det ønskelig med flere spørsmål? Skriv 1 for ja og 0 for nei: 1\n",
    " ```\n",
    " ```python\n",
    "Hva blir 2*0? 2\n",
    "Dessverre ikke riktig. Du har 2 forsøk igjen.\n",
    "Hva blir 2*0? 0                                                    #5 riktige svar\n",
    "Gratulerer, det er helt riktig!\n",
    "Er det ønskelig med flere spørsmål? Skriv 1 for ja og 0 for nei: 1\n",
    " ```\n",
    " ```python\n",
    "Hva blir 0*10? 0                                                    #Intervallet har økt og 1 riktig svar\n",
    "Gratulerer, det er helt riktig!\n",
    "Er det ønskelig med flere spørsmål? Skriv 1 for ja og 0 for nei: 1\n",
    ".\n",
    ".\n",
    ".\n",
    "Hva blir 15*29? 435                                                 \n",
    "Gratulerer, det er helt riktig!\n",
    "Er det ønskelig med flere spørsmål? Skriv 1 for ja og 0 for nei: 0\n",
    "```"
   ]
  }
 ],
 "metadata": {
  "kernelspec": {
   "display_name": "Python 3",
   "language": "python",
   "name": "python3"
  },
  "language_info": {
   "codemirror_mode": {
    "name": "ipython",
    "version": 3
   },
   "file_extension": ".py",
   "mimetype": "text/x-python",
   "name": "python",
   "nbconvert_exporter": "python",
   "pygments_lexer": "ipython3",
   "version": "3.11.2"
  },
  "toc": {
   "base_numbering": 1,
   "nav_menu": {},
   "number_sections": false,
   "sideBar": true,
   "skip_h1_title": false,
   "title_cell": "Table of Contents",
   "title_sidebar": "Contents",
   "toc_cell": false,
   "toc_position": {},
   "toc_section_display": true,
   "toc_window_display": false
  }
 },
 "nbformat": 4,
 "nbformat_minor": 2
}
