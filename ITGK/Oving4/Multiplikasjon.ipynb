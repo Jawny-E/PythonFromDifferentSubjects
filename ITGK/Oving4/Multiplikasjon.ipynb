{
 "cells": [
  {
   "cell_type": "markdown",
   "metadata": {
    "deletable": false,
    "editable": false,
    "run_control": {
     "frozen": true
    }
   },
   "source": [
    "<nav class=\"navbar navbar-default\">\n",
    "  <div class=\"container-fluid\">\n",
    "    <div class=\"navbar-header\">\n",
    "      <a class=\"navbar-brand\" href=\"_Oving4.ipynb\">Øving 4</a>\n",
    "    </div>\n",
    "    <ul class=\"nav navbar-nav\">\n",
    "    <li><a href=\"Grunnleggende%20om%20funksjoner.ipynb\">Grunnleggende om funksjoner</a></li>\n",
    "    <li><a href=\"Varierte%20funksjoner.ipynb\">Varierte funksjoner</a></li>\n",
    "    <li><a href=\"Lokale%20variabler.ipynb\">Lokale variabler</a></li>\n",
    "    <li><a href=\"Globale%20variabler.ipynb\">Globale variabler</a></li>\n",
    "    <li><a href=\"Euklids%20algoritme.ipynb\">Euklids algoritme</a></li>\n",
    "    <li><a href=\"Primtall.ipynb\">Primtall</a></li>\n",
    "    <li class=\"active\"><a href=\"Multiplikasjon.ipynb\">Multiplikasjon</a></li>\n",
    "        <li><a href=\"Den%20store%20sporreundersokelsen.ipynb\">Den store spørreundersøkelsen</a></li>\n",
    "    <li><a href=\"Arbeidsdager.ipynb\">Arbeidsdager</a></li>\n",
    "    <li><a href=\"Sekantmetoden.ipynb\">Sekantmetoden</a></li>\n",
    "    <li><a href=\"Not%20quite%20Blackjack.ipynb\">Not quite Blackjack</a></li>\n",
    "        <li><a href=\"Funksjoner%20og%20Jupyter%20widgets.ipynb\">Funksjoner og Jupyter widgets</a></li>\n",
    "    </ul>\n",
    "  </div>\n",
    "</nav>\n",
    "\n",
    "# Multiplikasjon\n",
    "\n",
    "**Læringsmål:**\n",
    "- Løkker\n",
    "- Funksjoner\n",
    "\n",
    "**Starting Out with Python:**\n",
    "- Kap. 4.2-4.3"
   ]
  },
  {
   "cell_type": "markdown",
   "metadata": {
    "deletable": false,
    "editable": false,
    "run_control": {
     "frozen": true
    }
   },
   "source": [
    "## a)"
   ]
  },
  {
   "cell_type": "markdown",
   "metadata": {
    "deletable": false,
    "editable": false,
    "run_control": {
     "frozen": true
    }
   },
   "source": [
    "Skriv en funksjon som tar inn en toleransegrense `tol` og returnerer `prod` og `count`, hvor `prod` er definert som:\n",
    "\n",
    "$(1+\\frac{1}{1^{2}})(1+\\frac{1}{2^{2}})(1+\\frac{1}{3^{2}})...$\n",
    "\n",
    "og `count` er antall iterasjoner som har blitt kjørt.\n",
    "\n",
    "Avslutt iterasjonen når endringen i produktet er mindre enn toleransegrensen `tol`. \n",
    "\n",
    "Skriv ut verdien og hvor mange iterasjoner som trengs. Hvis `tol` er 0.01 skal programmet skrive ut følgende:\n",
    "```\n",
    "Produktet ble 3.49 etter 19 iterasjoner.\n",
    "```\n",
    "\n",
    "***Skriv koden i kodeblokken under***"
   ]
  },
  {
   "cell_type": "code",
   "execution_count": 13,
   "metadata": {},
   "outputs": [
    {
     "name": "stdout",
     "output_type": "stream",
     "text": [
      "Produktet ble 3 etter 19 iterasjoner\n"
     ]
    }
   ],
   "source": [
    "def multiplikasjon(tol):\n",
    "    prev_prod = 0\n",
    "    count = 1\n",
    "    prod = 1 + (1 / count**2)\n",
    "    while(prod-prev_prod > tol):\n",
    "        prev_prod = prod\n",
    "        count += 1\n",
    "        prod = prev_prod * (1 + 1/count**2)\n",
    "    return prod, count\n",
    "\n",
    "print(\"Produktet ble %d etter %d iterasjoner\" % (multiplikasjon(0.01)))\n"
   ]
  }
 ],
 "metadata": {
  "kernelspec": {
   "display_name": "Python 3",
   "language": "python",
   "name": "python3"
  },
  "language_info": {
   "codemirror_mode": {
    "name": "ipython",
    "version": 3
   },
   "file_extension": ".py",
   "mimetype": "text/x-python",
   "name": "python",
   "nbconvert_exporter": "python",
   "pygments_lexer": "ipython3",
   "version": "3.11.2"
  },
  "toc": {
   "base_numbering": 1,
   "nav_menu": {},
   "number_sections": false,
   "sideBar": true,
   "skip_h1_title": false,
   "title_cell": "Table of Contents",
   "title_sidebar": "Contents",
   "toc_cell": false,
   "toc_position": {},
   "toc_section_display": true,
   "toc_window_display": false
  }
 },
 "nbformat": 4,
 "nbformat_minor": 2
}
