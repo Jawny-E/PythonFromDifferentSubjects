{
 "cells": [
  {
   "cell_type": "markdown",
   "metadata": {
    "Collapsed": "false",
    "deletable": false,
    "editable": false,
    "run_control": {
     "frozen": true
    }
   },
   "source": [
    "<nav class=\"navbar navbar-default\">\n",
    "  <div class=\"container-fluid\">\n",
    "    <div class=\"navbar-header\">\n",
    "      <a class=\"navbar-brand\" href=\"_Oving2.ipynb\">Øving 2</a>\n",
    "    </div>\n",
    "    <ul class=\"nav navbar-nav\">\n",
    "    <li><a href=\"Ulike%20typer%20if-setninger.ipynb\">Ulike typer if-setninger</a></li>\n",
    "    <li><a href=\"Sammenligning%20av%20strenger.ipynb\">Sammenligning av strenger</a></li>\n",
    "    <li><a href=\"Logiske%20operatorer%20og%20logiske%20uttrykk.ipynb\">Logiske operatorer og logiske uttrykk</a></li>\n",
    "    <li><a href=\"Forbrytelse%20og%20straff.ipynb\">Forbrytelse og straff</a></li>\n",
    "    <li><a href=\"Aarstider.ipynb\">Årstider</a></li>\n",
    "    <li><a href=\"Sjakkbrett.ipynb\">Sjakkbrett</a></li>\n",
    "    <li><a href=\"Billettpriser%20og%20rabatter.ipynb\">Billettpriser og rabatter</a></li>\n",
    "    <li><a href=\"Skatteetaten.ipynb\">Skatteetaten</a></li>\n",
    "    <li><a href=\"Epletigging.ipynb\">Datamaskinen som tigget epler</a></li>\n",
    "    <li class=\"active\"><a href=\"Andregradsligning.ipynb\">Andregradsligning</a></li>\n",
    "    </ul>\n",
    "  </div>\n",
    "</nav>\n",
    "\n",
    "# Andregradsligning\n",
    "\n",
    "**Læringsmål:**\n",
    "- Betingelser\n",
    "\n",
    "**Starting Out with Python:**\n",
    "- Kap. 3.4"
   ]
  },
  {
   "cell_type": "markdown",
   "metadata": {
    "Collapsed": "false",
    "deletable": false,
    "editable": false,
    "run_control": {
     "frozen": true
    }
   },
   "source": [
    "I denne oppgaven skal du lage et program som tar inn input fra brukeren om tallene i en andregradsligning, og returnerer hvorvidt ligningen har to reelle løsninger, to imaginære løsninger eller én reell dobbeltrot. I tillegg skal programmet returnere løsningene dersom de er reelle.\n",
    "\n",
    "Den generelle formen til en andregradsligning er \n",
    "\n",
    "\\begin{equation*}\n",
    "ax^2 + bx + c = 0\n",
    "\\end{equation*}\n",
    "\n",
    "For å finne ut hvor mange løsninger og hvilket løsningsområde en andregradsligning har, kan man bruke *diskriminanten*\n",
    "\n",
    "\\begin{equation*}\n",
    "d = b^2 - 4ac\n",
    "\\end{equation*}\n",
    "\n",
    "og tabellen:\n",
    "\n",
    "Tilfelle|Løsningsområde|Antall røtter\n",
    "---|---|---\n",
    "d < 0|Imaginær|2\n",
    "d > 0|Reell|2\n",
    "d = 0|Reell\t1|(dobbeltrot)"
   ]
  },
  {
   "cell_type": "markdown",
   "metadata": {
    "Collapsed": "false",
    "deletable": false,
    "editable": false,
    "run_control": {
     "frozen": true
    }
   },
   "source": [
    "## a) Finn riktig type løsning"
   ]
  },
  {
   "cell_type": "markdown",
   "metadata": {
    "Collapsed": "false",
    "deletable": false,
    "editable": false,
    "run_control": {
     "frozen": true
    }
   },
   "source": [
    "***Lag et program som ber om de tre verdiene a, b og c, regner ut d, og forteller brukeren om ligningen har to imaginære løsninger, to reelle løsninger, eller én reell dobbeltrot.***\n",
    "\n",
    "Sjekk for alle de tre mulige utfallene:\n",
    "\n",
    "- To imaginære løsninger\n",
    "  - f.eks.: a = 2, b = 4, c = 9\n",
    "- To reelle løsninger\n",
    "  - f.eks.: a = 2, b = -5, c = 0\n",
    "- Én reell dobbeltrot\n",
    "  - f.eks.: a = 2, b = 4, c = 2\n",
    "  \n",
    "***Skriv koden under***"
   ]
  },
  {
   "cell_type": "code",
   "execution_count": 1,
   "metadata": {
    "Collapsed": "false"
   },
   "outputs": [
    {
     "name": "stdout",
     "output_type": "stream",
     "text": [
      "Uttrykket er på formen: ax**2 + bx + c\n",
      "d er 0\n",
      "Uttrykket har ein reell dobbeltrot\n",
      "Roten er -1.0\n"
     ]
    }
   ],
   "source": [
    "import math\n",
    "print(\"Uttrykket er på formen: ax**2 + bx + c\")\n",
    "a = int(input(\"Hva er a?\"))\n",
    "b = int(input(\"Hva er b?\"))\n",
    "c = int(input(\"Hva er c?\"))\n",
    "\n",
    "d = b**2 - 4*a*c\n",
    "print(\"d er \" + str(d))\n",
    "if(d < 0):\n",
    "    print(\"Uttrykket har to imaginære røtter\")\n",
    "elif(d>0):\n",
    "    print(\"Uttrykket har to reelle røtter\")\n",
    "    x1 = (-b + math.sqrt(d))/(2*a)\n",
    "    x2 = (-b - math.sqrt(d))/(2*a)\n",
    "    print(\"Røttene er \" + str(x1) + \" og \" +str(x2))\n",
    "else:\n",
    "    print(\"Uttrykket har ein reell dobbeltrot\")\n",
    "    x1 = (-b + math.sqrt(d))/(2*a)\n",
    "    print(\"Roten er \" + str(x1))"
   ]
  },
  {
   "cell_type": "markdown",
   "metadata": {
    "Collapsed": "false",
    "deletable": false,
    "editable": false,
    "run_control": {
     "frozen": true
    }
   },
   "source": [
    "## b) Reelle løsninger"
   ]
  },
  {
   "cell_type": "markdown",
   "metadata": {
    "Collapsed": "false",
    "deletable": false,
    "editable": false,
    "run_control": {
     "frozen": true
    }
   },
   "source": [
    "***Utvid nå programmet i a) slik at bruker får vite løsningen(e) dersom de(n) er reell(e)***\n",
    "\n",
    "Andregradsformelen for å finne løsningen(e) er:\n",
    "\n",
    "\\begin{equation*}\n",
    "x=\\frac{-b±\\sqrt{d}}{2a}\n",
    "\\end{equation*}\n",
    "\n",
    "**Eksempel på kjøring av kode:**\n",
    "\n",
    "```python\n",
    "#Eksempel 1: imaginære løsninger  \n",
    "a: 2  \n",
    "b: 4  \n",
    "c: 9  \n",
    "Andregradsligningen 2.00*x^2 + 4.00*x + 9.00 har to imaginære løsninger\n",
    "```\n",
    "\n",
    "```python\n",
    "#Eksempel 2: reelle løsninger\n",
    "a: 2\n",
    "b: -5\n",
    "c: 0\n",
    "Andregradsligningen 2.00*x^2 -5.00*x + 0.00 har de to reelle løsningene 2.50 og 0.00\n",
    "```\n",
    "\n",
    "```python\n",
    "#Eksempel 3: reell dobbeltrot\n",
    "a: 2\n",
    "b: 4\n",
    "c: 2\n",
    "Andregradsligningen 2.00*x^2 + 4.00*x + 2.00 har en reell dobbeltrot -1.00\n",
    "```"
   ]
  }
 ],
 "metadata": {
  "kernelspec": {
   "display_name": "Python 3",
   "language": "python",
   "name": "python3"
  },
  "language_info": {
   "codemirror_mode": {
    "name": "ipython",
    "version": 3
   },
   "file_extension": ".py",
   "mimetype": "text/x-python",
   "name": "python",
   "nbconvert_exporter": "python",
   "pygments_lexer": "ipython3",
   "version": "3.11.2"
  },
  "toc": {
   "base_numbering": 1,
   "nav_menu": {},
   "number_sections": false,
   "sideBar": true,
   "skip_h1_title": false,
   "title_cell": "Table of Contents",
   "title_sidebar": "Contents",
   "toc_cell": false,
   "toc_position": {},
   "toc_section_display": true,
   "toc_window_display": false
  }
 },
 "nbformat": 4,
 "nbformat_minor": 4
}
