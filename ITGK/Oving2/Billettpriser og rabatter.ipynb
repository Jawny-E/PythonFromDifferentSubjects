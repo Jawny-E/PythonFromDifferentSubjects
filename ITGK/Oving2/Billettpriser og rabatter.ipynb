{
 "cells": [
  {
   "cell_type": "markdown",
   "metadata": {},
   "source": [
    "<nav class=\"navbar navbar-default\">\n",
    "  <div class=\"container-fluid\">\n",
    "    <div class=\"navbar-header\">\n",
    "      <a class=\"navbar-brand\" href=\"_Oving2.ipynb\">Øving 2</a>\n",
    "    </div>\n",
    "    <ul class=\"nav navbar-nav\">\n",
    "    <li><a href=\"Ulike%20typer%20if-setninger.ipynb\">Ulike typer if-setninger</a></li>\n",
    "    <li><a href=\"Sammenligning%20av%20strenger.ipynb\">Sammenligning av strenger</a></li>\n",
    "    <li><a href=\"Logiske%20operatorer%20og%20logiske%20uttrykk.ipynb\">Logiske operatorer og logiske uttrykk</a></li>\n",
    "    <li><a href=\"Forbrytelse%20og%20straff.ipynb\">Forbrytelse og straff</a></li>\n",
    "    <li><a href=\"Aarstider.ipynb\">Årstider</a></li>\n",
    "        <li ><a href=\"Tekstbasert%20spill.ipynb\">Tekstbasert spill</a></li>\n",
    "    <li><a href=\"Sjakkbrett.ipynb\">Sjakkbrett</a></li>\n",
    "    <li class=\"active\"><a href=\"Billettpriser%20og%20rabatter.ipynb\">Billettpriser og rabatter</a></li>\n",
    "    <li><a href=\"Skatteetaten.ipynb\">Skatteetaten</a></li>\n",
    "    <li><a href=\"Epletigging.ipynb\">Datamaskinen som tigget epler</a></li>\n",
    "    <li><a href=\"Andregradsligning.ipynb\">Andregradsligning</a></li>\n",
    "    </ul>\n",
    "  </div>\n",
    "</nav>\n",
    "\n",
    "# Billettpriser og rabatter\n",
    "\n",
    "**Læringsmål:**\n",
    "\n",
    "* Betingelser\n",
    "\n",
    "**Starting Out with Python:**\n",
    "\n",
    "* Kap 3.1, 3.2, 3.4\n",
    "\n",
    "I denne oppgaven skal du bruke betingelser (if-elif-else) til å bestemme billettprisen til en bruker basert på input fra brukeren. \n",
    "\n",
    "Transportselskapet «TravelevatoR» tilbyr reiser fra Trondheim til Pythonville. Ved bestilling minst 14 dager før man skal reise, kan man få minipris 199. Normal billett koster 440. "
   ]
  },
  {
   "cell_type": "markdown",
   "metadata": {
    "deletable": false,
    "editable": false,
    "run_control": {
     "frozen": true
    }
   },
   "source": [
    "### a)"
   ]
  },
  {
   "cell_type": "markdown",
   "metadata": {
    "deletable": false,
    "editable": false,
    "run_control": {
     "frozen": true
    }
   },
   "source": [
    "Skriv et program med to mulige oppførsler som vist under:\n",
    "\n",
    "  \n",
    "```\n",
    "Dager til du skal reise? 15  \n",
    "Du kan få minipris: 199,-  \n",
    ">>>  \n",
    "Dager til du skal reise? 8  \n",
    "For sent for minipris; fullpris 440,-  \n",
    "```\n",
    "***Skriv koden din under***"
   ]
  },
  {
   "cell_type": "code",
   "execution_count": null,
   "metadata": {
    "ExecuteTime": {
     "end_time": "2019-07-02T08:22:50.607851Z",
     "start_time": "2019-07-02T08:22:50.600802Z"
    }
   },
   "outputs": [],
   "source": [
    "#For å løse d hadde eg vald litt anna struktur, t.d. legge til variabel for rabattkategori :)\n",
    "dag = int(input(\"Hvor mange dager til avreise?\"))\n",
    "pris = 0\n",
    "\n",
    "if(dag >= 14):\n",
    "    print(\"Du kan få minipris: 199,- kan ikke refunderest eller leggest til andre rabatter\")\n",
    "    x = input(\"Ønskest dette? J/N\").upper()\n",
    "    if(x == 'J'):\n",
    "        print(\"Takk for handelen\")\n",
    "        pris = 199\n",
    "    else:\n",
    "        print(\"Da tilbys fullpris: 440,-\")\n",
    "        pris = 440\n",
    "else:\n",
    "    print(\"For sent for minipris: 440,-\")\n",
    "    pris = 440\n",
    "\n",
    "if(pris == 440):\n",
    "    print(\"Siden du har valgt FULLPRIS kan du nå sjekke av eventuelle rabattkategorier\")\n",
    "    aldr = int(input(\"Hva er alder på reisende? \"))\n",
    "    if(aldr <= 16):\n",
    "        print(\"Prisen på biletten blir: 220,-\")\n",
    "    elif(aldr >= 60):\n",
    "        print(\"Prisen på biletten blir: 330,-\")\n",
    "    else:\n",
    "        klasse = input(\"Er reisende militærpersonell eller student? J/N\")\n",
    "        if(klasse.upper() == 'J'):\n",
    "            print(\"Prisen på biletten blir: 330,-\")\n",
    "        else:\n",
    "            print(\"Ingen rabatter lagt til, endelig pris: 440,-\")"
   ]
  },
  {
   "cell_type": "markdown",
   "metadata": {
    "deletable": false,
    "editable": false,
    "run_control": {
     "frozen": true
    }
   },
   "source": [
    "### b)"
   ]
  },
  {
   "cell_type": "markdown",
   "metadata": {
    "deletable": false,
    "editable": false,
    "run_control": {
     "frozen": true
    }
   },
   "source": [
    "Det hender av og til at kunder ikke ønsker minipris, men heller vil ha fullprisbillett. Dette fordi minipris ikke kan refunderes / endres. Utvid derfor programmet så kunder spørres om de ønsker minipris – men kun der det er relevant. To eksempel på kjøring etter utvidelsen:\n",
    "\n",
    "  \n",
    "```\n",
    "Dager til du skal reise? 17\n",
    "Minipris 199,- kan ikke refunderes/endres\n",
    "Ønskes dette (J/N)? J\n",
    "Takk for pengene, god reise!\n",
    "```\n",
    "  \n",
    "```\n",
    "Dager til du skal reise? 17\n",
    "Minipris 199,- kan ikke refunderes/endres\n",
    "Ønskes dette (J/N)? N\n",
    "Da tilbyr vi fullpris: 440,-\n",
    "```"
   ]
  },
  {
   "cell_type": "markdown",
   "metadata": {
    "deletable": false,
    "editable": false,
    "run_control": {
     "frozen": true
    }
   },
   "source": [
    "### c)"
   ]
  },
  {
   "cell_type": "markdown",
   "metadata": {
    "deletable": false,
    "editable": false,
    "run_control": {
     "frozen": true
    }
   },
   "source": [
    "Det blir besluttet at barn under 16 gis 50% rabatt. Senior (60+), militær i uniform, og student gis 25% rabatt. Om man f.eks. både er 60+ og militær / student, får man likevel bare 25% rabatt. Alle disse rabattene gjelder kun i forhold til fullpris, for minipris gis ingen rabatter. Endre programmet så det spør kunden om alder, evt. også om student / militær, og regner ut riktig pris.\n",
    "\n",
    "**NB:** De nye spørsmålene skal ***kun*** stilles når de er relevante, da det er et mål at kunden skal måtte svare på så få spørsmål som mulig.\n",
    "\n",
    "Eksempel på kjøring av koden:\n",
    "\n",
    "  \n",
    "```\n",
    "Dager til du skal reise? 17\n",
    "Minipris 199,- kan ikke refunderes/endres\n",
    "Ønskes dette (J/N)? N\n",
    "Skriv inn din alder: 15\n",
    "Prisen på biletten blir: 220,-\n",
    "```"
   ]
  }
 ],
 "metadata": {
  "kernelspec": {
   "display_name": "Python 3",
   "language": "python",
   "name": "python3"
  },
  "language_info": {
   "codemirror_mode": {
    "name": "ipython",
    "version": 3
   },
   "file_extension": ".py",
   "mimetype": "text/x-python",
   "name": "python",
   "nbconvert_exporter": "python",
   "pygments_lexer": "ipython3",
   "version": "3.7.3"
  },
  "toc": {
   "base_numbering": 1,
   "nav_menu": {},
   "number_sections": false,
   "sideBar": true,
   "skip_h1_title": false,
   "title_cell": "Table of Contents",
   "title_sidebar": "Contents",
   "toc_cell": false,
   "toc_position": {},
   "toc_section_display": true,
   "toc_window_display": false
  }
 },
 "nbformat": 4,
 "nbformat_minor": 2
}
